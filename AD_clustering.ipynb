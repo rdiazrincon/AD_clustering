{
 "cells": [
  {
   "cell_type": "markdown",
   "metadata": {},
   "source": [
    "# Characterization of Alzheimer's Disease through clustering of Medical notes"
   ]
  },
  {
   "cell_type": "markdown",
   "metadata": {},
   "source": [
    "## Introduction"
   ]
  },
  {
   "cell_type": "markdown",
   "metadata": {},
   "source": [
    "### Importing packages"
   ]
  },
  {
   "cell_type": "code",
   "execution_count": 1,
   "metadata": {},
   "outputs": [],
   "source": [
    "import numpy as np\n",
    "import pandas as pd\n",
    "from datetime import datetime, date\n",
    "from sentence_transformers import SentenceTransformer, util\n",
    "from sklearn.cluster import KMeans"
   ]
  },
  {
   "cell_type": "markdown",
   "metadata": {},
   "source": [
    "### Data Pre-processing"
   ]
  },
  {
   "cell_type": "markdown",
   "metadata": {},
   "source": [
    "#### Exploring the data"
   ]
  },
  {
   "cell_type": "code",
   "execution_count": 2,
   "metadata": {},
   "outputs": [
    {
     "data": {
      "text/html": [
       "<div>\n",
       "<style scoped>\n",
       "    .dataframe tbody tr th:only-of-type {\n",
       "        vertical-align: middle;\n",
       "    }\n",
       "\n",
       "    .dataframe tbody tr th {\n",
       "        vertical-align: top;\n",
       "    }\n",
       "\n",
       "    .dataframe thead th {\n",
       "        text-align: right;\n",
       "    }\n",
       "</style>\n",
       "<table border=\"1\" class=\"dataframe\">\n",
       "  <thead>\n",
       "    <tr style=\"text-align: right;\">\n",
       "      <th></th>\n",
       "      <th>person_id</th>\n",
       "      <th>birth_datetime</th>\n",
       "      <th>gender_source_value</th>\n",
       "      <th>race_source_value</th>\n",
       "      <th>ethnicity_source_value</th>\n",
       "      <th>note_title</th>\n",
       "      <th>note_text</th>\n",
       "    </tr>\n",
       "  </thead>\n",
       "  <tbody>\n",
       "    <tr>\n",
       "      <th>0</th>\n",
       "      <td>271</td>\n",
       "      <td>1932-02-09 00:00:00</td>\n",
       "      <td>FEMALE</td>\n",
       "      <td>WHITE</td>\n",
       "      <td>NOT HISPANIC</td>\n",
       "      <td>order_impression: IMAGING</td>\n",
       "      <td>No acute osseous abnormality of the right shou...</td>\n",
       "    </tr>\n",
       "    <tr>\n",
       "      <th>1</th>\n",
       "      <td>271</td>\n",
       "      <td>1932-02-09 00:00:00</td>\n",
       "      <td>FEMALE</td>\n",
       "      <td>WHITE</td>\n",
       "      <td>NOT HISPANIC</td>\n",
       "      <td>order_impression: IMAGING</td>\n",
       "      <td>FINDINGS OF PULMONARY EDEMA. ACUITY LEVEL: 2. ...</td>\n",
       "    </tr>\n",
       "    <tr>\n",
       "      <th>2</th>\n",
       "      <td>271</td>\n",
       "      <td>1932-02-09 00:00:00</td>\n",
       "      <td>FEMALE</td>\n",
       "      <td>WHITE</td>\n",
       "      <td>NOT HISPANIC</td>\n",
       "      <td>order_impression: IMAGING</td>\n",
       "      <td>No acute osseous abnormality of the right shou...</td>\n",
       "    </tr>\n",
       "    <tr>\n",
       "      <th>3</th>\n",
       "      <td>271</td>\n",
       "      <td>1932-02-09 00:00:00</td>\n",
       "      <td>FEMALE</td>\n",
       "      <td>WHITE</td>\n",
       "      <td>NOT HISPANIC</td>\n",
       "      <td>order_impression: IMAGING</td>\n",
       "      <td>No acute osseous abnormality of the right shou...</td>\n",
       "    </tr>\n",
       "    <tr>\n",
       "      <th>4</th>\n",
       "      <td>271</td>\n",
       "      <td>1932-02-09 00:00:00</td>\n",
       "      <td>FEMALE</td>\n",
       "      <td>WHITE</td>\n",
       "      <td>NOT HISPANIC</td>\n",
       "      <td>order_impression: IMAGING</td>\n",
       "      <td>1. Moderate subcutaneous hematoma about the le...</td>\n",
       "    </tr>\n",
       "    <tr>\n",
       "      <th>...</th>\n",
       "      <td>...</td>\n",
       "      <td>...</td>\n",
       "      <td>...</td>\n",
       "      <td>...</td>\n",
       "      <td>...</td>\n",
       "      <td>...</td>\n",
       "      <td>...</td>\n",
       "    </tr>\n",
       "    <tr>\n",
       "      <th>26182</th>\n",
       "      <td>258985</td>\n",
       "      <td>1946-12-18 00:00:00</td>\n",
       "      <td>FEMALE</td>\n",
       "      <td>WHITE</td>\n",
       "      <td>NOT HISPANIC</td>\n",
       "      <td>order_narative: IMAGING</td>\n",
       "      <td>X-ray abdomen complete with chest Indication: ...</td>\n",
       "    </tr>\n",
       "    <tr>\n",
       "      <th>26183</th>\n",
       "      <td>258985</td>\n",
       "      <td>1946-12-18 00:00:00</td>\n",
       "      <td>FEMALE</td>\n",
       "      <td>WHITE</td>\n",
       "      <td>NOT HISPANIC</td>\n",
       "      <td>order_narative: IMAGING</td>\n",
       "      <td>CTA dissection protocol. Technique: Axial imag...</td>\n",
       "    </tr>\n",
       "    <tr>\n",
       "      <th>26184</th>\n",
       "      <td>258985</td>\n",
       "      <td>1946-12-18 00:00:00</td>\n",
       "      <td>FEMALE</td>\n",
       "      <td>WHITE</td>\n",
       "      <td>NOT HISPANIC</td>\n",
       "      <td>order_narative: IMAGING</td>\n",
       "      <td>CTA dissection protocol. Technique: Axial imag...</td>\n",
       "    </tr>\n",
       "    <tr>\n",
       "      <th>26185</th>\n",
       "      <td>258985</td>\n",
       "      <td>1946-12-18 00:00:00</td>\n",
       "      <td>FEMALE</td>\n",
       "      <td>WHITE</td>\n",
       "      <td>NOT HISPANIC</td>\n",
       "      <td>order_narative: IMAGING</td>\n",
       "      <td>Study: AP radiograph of the chest History: Wea...</td>\n",
       "    </tr>\n",
       "    <tr>\n",
       "      <th>26186</th>\n",
       "      <td>258985</td>\n",
       "      <td>1946-12-18 00:00:00</td>\n",
       "      <td>FEMALE</td>\n",
       "      <td>WHITE</td>\n",
       "      <td>NOT HISPANIC</td>\n",
       "      <td>order_narative: IMAGING</td>\n",
       "      <td>CTA dissection protocol. Technique: Axial imag...</td>\n",
       "    </tr>\n",
       "  </tbody>\n",
       "</table>\n",
       "<p>26187 rows × 7 columns</p>\n",
       "</div>"
      ],
      "text/plain": [
       "       person_id       birth_datetime gender_source_value race_source_value  \\\n",
       "0            271  1932-02-09 00:00:00              FEMALE             WHITE   \n",
       "1            271  1932-02-09 00:00:00              FEMALE             WHITE   \n",
       "2            271  1932-02-09 00:00:00              FEMALE             WHITE   \n",
       "3            271  1932-02-09 00:00:00              FEMALE             WHITE   \n",
       "4            271  1932-02-09 00:00:00              FEMALE             WHITE   \n",
       "...          ...                  ...                 ...               ...   \n",
       "26182     258985  1946-12-18 00:00:00              FEMALE             WHITE   \n",
       "26183     258985  1946-12-18 00:00:00              FEMALE             WHITE   \n",
       "26184     258985  1946-12-18 00:00:00              FEMALE             WHITE   \n",
       "26185     258985  1946-12-18 00:00:00              FEMALE             WHITE   \n",
       "26186     258985  1946-12-18 00:00:00              FEMALE             WHITE   \n",
       "\n",
       "      ethnicity_source_value                 note_title  \\\n",
       "0               NOT HISPANIC  order_impression: IMAGING   \n",
       "1               NOT HISPANIC  order_impression: IMAGING   \n",
       "2               NOT HISPANIC  order_impression: IMAGING   \n",
       "3               NOT HISPANIC  order_impression: IMAGING   \n",
       "4               NOT HISPANIC  order_impression: IMAGING   \n",
       "...                      ...                        ...   \n",
       "26182           NOT HISPANIC    order_narative: IMAGING   \n",
       "26183           NOT HISPANIC    order_narative: IMAGING   \n",
       "26184           NOT HISPANIC    order_narative: IMAGING   \n",
       "26185           NOT HISPANIC    order_narative: IMAGING   \n",
       "26186           NOT HISPANIC    order_narative: IMAGING   \n",
       "\n",
       "                                               note_text  \n",
       "0      No acute osseous abnormality of the right shou...  \n",
       "1      FINDINGS OF PULMONARY EDEMA. ACUITY LEVEL: 2. ...  \n",
       "2      No acute osseous abnormality of the right shou...  \n",
       "3      No acute osseous abnormality of the right shou...  \n",
       "4      1. Moderate subcutaneous hematoma about the le...  \n",
       "...                                                  ...  \n",
       "26182  X-ray abdomen complete with chest Indication: ...  \n",
       "26183  CTA dissection protocol. Technique: Axial imag...  \n",
       "26184  CTA dissection protocol. Technique: Axial imag...  \n",
       "26185  Study: AP radiograph of the chest History: Wea...  \n",
       "26186  CTA dissection protocol. Technique: Axial imag...  \n",
       "\n",
       "[26187 rows x 7 columns]"
      ]
     },
     "execution_count": 2,
     "metadata": {},
     "output_type": "execute_result"
    }
   ],
   "source": [
    "path = \"data/Early-onset.csv\"\n",
    "df = pd.read_csv(path)\n",
    "df"
   ]
  },
  {
   "cell_type": "markdown",
   "metadata": {},
   "source": [
    "### Calculating the age of each patient from their birth date"
   ]
  },
  {
   "cell_type": "code",
   "execution_count": 3,
   "metadata": {},
   "outputs": [
    {
     "data": {
      "text/html": [
       "<div>\n",
       "<style scoped>\n",
       "    .dataframe tbody tr th:only-of-type {\n",
       "        vertical-align: middle;\n",
       "    }\n",
       "\n",
       "    .dataframe tbody tr th {\n",
       "        vertical-align: top;\n",
       "    }\n",
       "\n",
       "    .dataframe thead th {\n",
       "        text-align: right;\n",
       "    }\n",
       "</style>\n",
       "<table border=\"1\" class=\"dataframe\">\n",
       "  <thead>\n",
       "    <tr style=\"text-align: right;\">\n",
       "      <th></th>\n",
       "      <th>person_id</th>\n",
       "      <th>age</th>\n",
       "      <th>gender_source_value</th>\n",
       "      <th>race_source_value</th>\n",
       "      <th>ethnicity_source_value</th>\n",
       "      <th>note_title</th>\n",
       "      <th>note_text</th>\n",
       "    </tr>\n",
       "  </thead>\n",
       "  <tbody>\n",
       "    <tr>\n",
       "      <th>0</th>\n",
       "      <td>271</td>\n",
       "      <td>90</td>\n",
       "      <td>FEMALE</td>\n",
       "      <td>WHITE</td>\n",
       "      <td>NOT HISPANIC</td>\n",
       "      <td>order_impression: IMAGING</td>\n",
       "      <td>No acute osseous abnormality of the right shou...</td>\n",
       "    </tr>\n",
       "    <tr>\n",
       "      <th>1</th>\n",
       "      <td>271</td>\n",
       "      <td>90</td>\n",
       "      <td>FEMALE</td>\n",
       "      <td>WHITE</td>\n",
       "      <td>NOT HISPANIC</td>\n",
       "      <td>order_impression: IMAGING</td>\n",
       "      <td>FINDINGS OF PULMONARY EDEMA. ACUITY LEVEL: 2. ...</td>\n",
       "    </tr>\n",
       "    <tr>\n",
       "      <th>2</th>\n",
       "      <td>271</td>\n",
       "      <td>90</td>\n",
       "      <td>FEMALE</td>\n",
       "      <td>WHITE</td>\n",
       "      <td>NOT HISPANIC</td>\n",
       "      <td>order_impression: IMAGING</td>\n",
       "      <td>No acute osseous abnormality of the right shou...</td>\n",
       "    </tr>\n",
       "    <tr>\n",
       "      <th>3</th>\n",
       "      <td>271</td>\n",
       "      <td>90</td>\n",
       "      <td>FEMALE</td>\n",
       "      <td>WHITE</td>\n",
       "      <td>NOT HISPANIC</td>\n",
       "      <td>order_impression: IMAGING</td>\n",
       "      <td>No acute osseous abnormality of the right shou...</td>\n",
       "    </tr>\n",
       "    <tr>\n",
       "      <th>4</th>\n",
       "      <td>271</td>\n",
       "      <td>90</td>\n",
       "      <td>FEMALE</td>\n",
       "      <td>WHITE</td>\n",
       "      <td>NOT HISPANIC</td>\n",
       "      <td>order_impression: IMAGING</td>\n",
       "      <td>1. Moderate subcutaneous hematoma about the le...</td>\n",
       "    </tr>\n",
       "    <tr>\n",
       "      <th>...</th>\n",
       "      <td>...</td>\n",
       "      <td>...</td>\n",
       "      <td>...</td>\n",
       "      <td>...</td>\n",
       "      <td>...</td>\n",
       "      <td>...</td>\n",
       "      <td>...</td>\n",
       "    </tr>\n",
       "    <tr>\n",
       "      <th>26182</th>\n",
       "      <td>258985</td>\n",
       "      <td>75</td>\n",
       "      <td>FEMALE</td>\n",
       "      <td>WHITE</td>\n",
       "      <td>NOT HISPANIC</td>\n",
       "      <td>order_narative: IMAGING</td>\n",
       "      <td>X-ray abdomen complete with chest Indication: ...</td>\n",
       "    </tr>\n",
       "    <tr>\n",
       "      <th>26183</th>\n",
       "      <td>258985</td>\n",
       "      <td>75</td>\n",
       "      <td>FEMALE</td>\n",
       "      <td>WHITE</td>\n",
       "      <td>NOT HISPANIC</td>\n",
       "      <td>order_narative: IMAGING</td>\n",
       "      <td>CTA dissection protocol. Technique: Axial imag...</td>\n",
       "    </tr>\n",
       "    <tr>\n",
       "      <th>26184</th>\n",
       "      <td>258985</td>\n",
       "      <td>75</td>\n",
       "      <td>FEMALE</td>\n",
       "      <td>WHITE</td>\n",
       "      <td>NOT HISPANIC</td>\n",
       "      <td>order_narative: IMAGING</td>\n",
       "      <td>CTA dissection protocol. Technique: Axial imag...</td>\n",
       "    </tr>\n",
       "    <tr>\n",
       "      <th>26185</th>\n",
       "      <td>258985</td>\n",
       "      <td>75</td>\n",
       "      <td>FEMALE</td>\n",
       "      <td>WHITE</td>\n",
       "      <td>NOT HISPANIC</td>\n",
       "      <td>order_narative: IMAGING</td>\n",
       "      <td>Study: AP radiograph of the chest History: Wea...</td>\n",
       "    </tr>\n",
       "    <tr>\n",
       "      <th>26186</th>\n",
       "      <td>258985</td>\n",
       "      <td>75</td>\n",
       "      <td>FEMALE</td>\n",
       "      <td>WHITE</td>\n",
       "      <td>NOT HISPANIC</td>\n",
       "      <td>order_narative: IMAGING</td>\n",
       "      <td>CTA dissection protocol. Technique: Axial imag...</td>\n",
       "    </tr>\n",
       "  </tbody>\n",
       "</table>\n",
       "<p>26187 rows × 7 columns</p>\n",
       "</div>"
      ],
      "text/plain": [
       "       person_id  age gender_source_value race_source_value  \\\n",
       "0            271   90              FEMALE             WHITE   \n",
       "1            271   90              FEMALE             WHITE   \n",
       "2            271   90              FEMALE             WHITE   \n",
       "3            271   90              FEMALE             WHITE   \n",
       "4            271   90              FEMALE             WHITE   \n",
       "...          ...  ...                 ...               ...   \n",
       "26182     258985   75              FEMALE             WHITE   \n",
       "26183     258985   75              FEMALE             WHITE   \n",
       "26184     258985   75              FEMALE             WHITE   \n",
       "26185     258985   75              FEMALE             WHITE   \n",
       "26186     258985   75              FEMALE             WHITE   \n",
       "\n",
       "      ethnicity_source_value                 note_title  \\\n",
       "0               NOT HISPANIC  order_impression: IMAGING   \n",
       "1               NOT HISPANIC  order_impression: IMAGING   \n",
       "2               NOT HISPANIC  order_impression: IMAGING   \n",
       "3               NOT HISPANIC  order_impression: IMAGING   \n",
       "4               NOT HISPANIC  order_impression: IMAGING   \n",
       "...                      ...                        ...   \n",
       "26182           NOT HISPANIC    order_narative: IMAGING   \n",
       "26183           NOT HISPANIC    order_narative: IMAGING   \n",
       "26184           NOT HISPANIC    order_narative: IMAGING   \n",
       "26185           NOT HISPANIC    order_narative: IMAGING   \n",
       "26186           NOT HISPANIC    order_narative: IMAGING   \n",
       "\n",
       "                                               note_text  \n",
       "0      No acute osseous abnormality of the right shou...  \n",
       "1      FINDINGS OF PULMONARY EDEMA. ACUITY LEVEL: 2. ...  \n",
       "2      No acute osseous abnormality of the right shou...  \n",
       "3      No acute osseous abnormality of the right shou...  \n",
       "4      1. Moderate subcutaneous hematoma about the le...  \n",
       "...                                                  ...  \n",
       "26182  X-ray abdomen complete with chest Indication: ...  \n",
       "26183  CTA dissection protocol. Technique: Axial imag...  \n",
       "26184  CTA dissection protocol. Technique: Axial imag...  \n",
       "26185  Study: AP radiograph of the chest History: Wea...  \n",
       "26186  CTA dissection protocol. Technique: Axial imag...  \n",
       "\n",
       "[26187 rows x 7 columns]"
      ]
     },
     "execution_count": 3,
     "metadata": {},
     "output_type": "execute_result"
    }
   ],
   "source": [
    "# Converting the \"birth_datetime\" column to a datetime format \n",
    "df[\"birth_datetime\"] = pd.to_datetime(df[\"birth_datetime\"], format='%Y-%m-%d')\n",
    "# Calculating the age by substracting the current date with the date in the dataframe\n",
    "df[\"age\"] = (pd.Timestamp('now') - df[\"birth_datetime\"]).astype('timedelta64[Y]')\n",
    "# Converting age to integer\n",
    "df[\"age\"]  = pd.to_numeric(df[\"age\"], downcast='integer')\n",
    "# Dropping the birth_datetime (it's useless at this point) \n",
    "df = df.drop(\"birth_datetime\", axis=1)\n",
    "# Re-arranging the order of the columns\n",
    "df = df[['person_id', 'age', 'gender_source_value', 'race_source_value', 'ethnicity_source_value', 'note_title', 'note_text']]\n",
    "df"
   ]
  },
  {
   "cell_type": "markdown",
   "metadata": {},
   "source": [
    "### Creating the corpus from medical notes "
   ]
  },
  {
   "cell_type": "code",
   "execution_count": 4,
   "metadata": {},
   "outputs": [],
   "source": [
    "corpus = list(df[\"note_text\"])"
   ]
  },
  {
   "cell_type": "markdown",
   "metadata": {},
   "source": [
    "### Creating Text embeddings"
   ]
  },
  {
   "cell_type": "code",
   "execution_count": 6,
   "metadata": {},
   "outputs": [
    {
     "name": "stderr",
     "output_type": "stream",
     "text": [
      "No sentence-transformers model found with name ../models/sentence_transformers/emilyalsentzer_Bio_ClinicalBERT. Creating a new one with MEAN pooling.\n",
      "Some weights of the model checkpoint at ../models/sentence_transformers/emilyalsentzer_Bio_ClinicalBERT were not used when initializing BertModel: ['cls.predictions.transform.LayerNorm.weight', 'cls.seq_relationship.weight', 'cls.predictions.bias', 'cls.seq_relationship.bias', 'cls.predictions.transform.dense.bias', 'cls.predictions.transform.LayerNorm.bias', 'cls.predictions.transform.dense.weight', 'cls.predictions.decoder.weight']\n",
      "- This IS expected if you are initializing BertModel from the checkpoint of a model trained on another task or with another architecture (e.g. initializing a BertForSequenceClassification model from a BertForPreTraining model).\n",
      "- This IS NOT expected if you are initializing BertModel from the checkpoint of a model that you expect to be exactly identical (initializing a BertForSequenceClassification model from a BertForSequenceClassification model).\n"
     ]
    }
   ],
   "source": [
    "model = SentenceTransformer(\"../models/sentence_transformers/emilyalsentzer_Bio_ClinicalBERT\")"
   ]
  },
  {
   "cell_type": "markdown",
   "metadata": {},
   "source": [
    "#### Some model parameters\n",
    "\n",
    "The Transformer itself has a max sequence length of 512 tokens and it does not lowercase the input. For the pooling operation we will produce a 768-dimensional sentence embedding. We do this using mean pooling "
   ]
  },
  {
   "cell_type": "code",
   "execution_count": 7,
   "metadata": {},
   "outputs": [
    {
     "data": {
      "text/plain": [
       "SentenceTransformer(\n",
       "  (0): Transformer({'max_seq_length': 512, 'do_lower_case': False}) with Transformer model: BertModel \n",
       "  (1): Pooling({'word_embedding_dimension': 768, 'pooling_mode_cls_token': False, 'pooling_mode_mean_tokens': True, 'pooling_mode_max_tokens': False, 'pooling_mode_mean_sqrt_len_tokens': False})\n",
       ")"
      ]
     },
     "execution_count": 7,
     "metadata": {},
     "output_type": "execute_result"
    }
   ],
   "source": [
    "model"
   ]
  },
  {
   "cell_type": "code",
   "execution_count": 8,
   "metadata": {},
   "outputs": [
    {
     "data": {
      "application/vnd.jupyter.widget-view+json": {
       "model_id": "8b63960096054ad7bbacef3b49b9ef80",
       "version_major": 2,
       "version_minor": 0
      },
      "text/plain": [
       "Batches:   0%|          | 0/819 [00:00<?, ?it/s]"
      ]
     },
     "metadata": {},
     "output_type": "display_data"
    }
   ],
   "source": [
    "embeddings = model.encode(corpus, show_progress_bar=True)"
   ]
  },
  {
   "cell_type": "code",
   "execution_count": 9,
   "metadata": {},
   "outputs": [
    {
     "data": {
      "text/plain": [
       "array([[-0.01031036, -0.30022842, -0.0040418 , ...,  0.16678289,\n",
       "        -0.06362955, -0.1038893 ],\n",
       "       [ 0.24206898, -0.12554152, -0.11126488, ...,  0.1350423 ,\n",
       "        -0.07171026, -0.21101828],\n",
       "       [-0.01031036, -0.30022842, -0.0040418 , ...,  0.16678289,\n",
       "        -0.06362955, -0.1038893 ],\n",
       "       ...,\n",
       "       [ 0.16683355, -0.24268997,  0.01422041, ...,  0.2329206 ,\n",
       "        -0.12016237, -0.09765943],\n",
       "       [ 0.04199807, -0.34661102, -0.08677702, ...,  0.26763746,\n",
       "         0.03535613, -0.15291375],\n",
       "       [ 0.16683355, -0.24268997,  0.01422041, ...,  0.2329206 ,\n",
       "        -0.12016237, -0.09765943]], dtype=float32)"
      ]
     },
     "execution_count": 9,
     "metadata": {},
     "output_type": "execute_result"
    }
   ],
   "source": [
    "embeddings"
   ]
  }
 ],
 "metadata": {
  "kernelspec": {
   "display_name": "Python 3 (ipykernel)",
   "language": "python",
   "name": "python3"
  },
  "language_info": {
   "codemirror_mode": {
    "name": "ipython",
    "version": 3
   },
   "file_extension": ".py",
   "mimetype": "text/x-python",
   "name": "python",
   "nbconvert_exporter": "python",
   "pygments_lexer": "ipython3",
   "version": "3.9.13"
  },
  "vscode": {
   "interpreter": {
    "hash": "89b32c871c216344fb10732c00814d306335dba348eb3756d4b4a14b624b03bb"
   }
  }
 },
 "nbformat": 4,
 "nbformat_minor": 4
}
