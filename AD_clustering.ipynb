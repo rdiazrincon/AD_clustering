{
 "cells": [
  {
   "cell_type": "code",
   "execution_count": 11,
   "metadata": {},
   "outputs": [],
   "source": [
    "import torch\n",
    "import numpy as np"
   ]
  },
  {
   "cell_type": "code",
   "execution_count": 2,
   "metadata": {},
   "outputs": [],
   "source": [
    "from transformers import AutoTokenizer, AutoModel"
   ]
  },
  {
   "cell_type": "code",
   "execution_count": 15,
   "metadata": {},
   "outputs": [
    {
     "data": {
      "application/vnd.jupyter.widget-view+json": {
       "model_id": "1562b09b1c6b4cd18ae2bad0b62f0302",
       "version_major": 2,
       "version_minor": 0
      },
      "text/plain": [
       "Downloading:   0%|          | 0.00/29.0 [00:00<?, ?B/s]"
      ]
     },
     "metadata": {},
     "output_type": "display_data"
    },
    {
     "data": {
      "application/vnd.jupyter.widget-view+json": {
       "model_id": "f9f0dabc337649318795cbe84a8deb3c",
       "version_major": 2,
       "version_minor": 0
      },
      "text/plain": [
       "Downloading:   0%|          | 0.00/570 [00:00<?, ?B/s]"
      ]
     },
     "metadata": {},
     "output_type": "display_data"
    },
    {
     "data": {
      "application/vnd.jupyter.widget-view+json": {
       "model_id": "89e365e45f7446eba9a8ddbbbbd1e89a",
       "version_major": 2,
       "version_minor": 0
      },
      "text/plain": [
       "Downloading:   0%|          | 0.00/213k [00:00<?, ?B/s]"
      ]
     },
     "metadata": {},
     "output_type": "display_data"
    },
    {
     "data": {
      "application/vnd.jupyter.widget-view+json": {
       "model_id": "953db556bf48425db525bf0923627227",
       "version_major": 2,
       "version_minor": 0
      },
      "text/plain": [
       "Downloading:   0%|          | 0.00/436k [00:00<?, ?B/s]"
      ]
     },
     "metadata": {},
     "output_type": "display_data"
    }
   ],
   "source": [
    "tokenizer = AutoTokenizer.from_pretrained(\"bert-base-cased\")"
   ]
  },
  {
   "cell_type": "code",
   "execution_count": 16,
   "metadata": {},
   "outputs": [
    {
     "data": {
      "application/vnd.jupyter.widget-view+json": {
       "model_id": "ed7de52350ea4c4f8b4b7d0ab533a68d",
       "version_major": 2,
       "version_minor": 0
      },
      "text/plain": [
       "Downloading:   0%|          | 0.00/436M [00:00<?, ?B/s]"
      ]
     },
     "metadata": {},
     "output_type": "display_data"
    },
    {
     "name": "stderr",
     "output_type": "stream",
     "text": [
      "Some weights of the model checkpoint at bert-base-cased were not used when initializing BertModel: ['cls.predictions.decoder.weight', 'cls.predictions.transform.LayerNorm.weight', 'cls.predictions.transform.LayerNorm.bias', 'cls.seq_relationship.bias', 'cls.predictions.transform.dense.bias', 'cls.seq_relationship.weight', 'cls.predictions.bias', 'cls.predictions.transform.dense.weight']\n",
      "- This IS expected if you are initializing BertModel from the checkpoint of a model trained on another task or with another architecture (e.g. initializing a BertForSequenceClassification model from a BertForPreTraining model).\n",
      "- This IS NOT expected if you are initializing BertModel from the checkpoint of a model that you expect to be exactly identical (initializing a BertForSequenceClassification model from a BertForSequenceClassification model).\n"
     ]
    }
   ],
   "source": [
    "model = AutoModel.from_pretrained(\"bert-base-cased\")"
   ]
  },
  {
   "cell_type": "code",
   "execution_count": 17,
   "metadata": {},
   "outputs": [],
   "source": [
    "def get_word_idx(sent: str, word: str):\n",
    "    return sent.split(\" \").index(word)"
   ]
  },
  {
   "cell_type": "code",
   "execution_count": 18,
   "metadata": {},
   "outputs": [],
   "source": [
    "def get_hidden_states(encoded, token_ids_word, model, layers):\n",
    "    \"\"\"Push input IDs through model. Stack and sum `layers` (last four by default).\n",
    "    Select only those subword token outputs that belong to our word of interest\n",
    "    and average them.\"\"\"\n",
    "    with torch.no_grad():\n",
    "        output = model(**encoded)\n",
    " \n",
    "    # Get all hidden states\n",
    "    states = output.hidden_states\n",
    "    # Stack and sum all requested layers\n",
    "    output = torch.stack([states[i] for i in layers]).sum(0).squeeze()\n",
    "    # Only select the tokens that constitute the requested word\n",
    "    word_tokens_output = output[token_ids_word]\n",
    " \n",
    "    return word_tokens_output.mean(dim=0)"
   ]
  },
  {
   "cell_type": "code",
   "execution_count": 19,
   "metadata": {},
   "outputs": [],
   "source": [
    "def get_word_vector(sent, idx, tokenizer, model, layers):\n",
    "    \"\"\"Get a word vector by first tokenizing the input sentence, getting all token idxs\n",
    "        that make up the word of interest, and then `get_hidden_states`.\"\"\"\n",
    "    encoded = tokenizer.encode_plus(sent, return_tensors=\"pt\")\n",
    "    # get all token idxs that belong to the word of interest\n",
    "    token_ids_word = np.where(np.array(encoded.word_ids()) == idx)\n",
    "\n",
    "    return get_hidden_states(encoded, token_ids_word, model, layers)"
   ]
  },
  {
   "cell_type": "code",
   "execution_count": 22,
   "metadata": {},
   "outputs": [
    {
     "ename": "TypeError",
     "evalue": "'NoneType' object is not subscriptable",
     "output_type": "error",
     "traceback": [
      "\u001b[0;31m---------------------------------------------------------------------------\u001b[0m",
      "\u001b[0;31mTypeError\u001b[0m                                 Traceback (most recent call last)",
      "\u001b[1;32m/home/ricardo/AD_clustering/AD_clustering.ipynb Cell 8\u001b[0m in \u001b[0;36m<cell line: 5>\u001b[0;34m()\u001b[0m\n\u001b[1;32m      <a href='vscode-notebook-cell:/home/ricardo/AD_clustering/AD_clustering.ipynb#X12sZmlsZQ%3D%3D?line=2'>3</a>\u001b[0m sent \u001b[39m=\u001b[39m \u001b[39m\"\u001b[39m\u001b[39mI like cookies .\u001b[39m\u001b[39m\"\u001b[39m \n\u001b[1;32m      <a href='vscode-notebook-cell:/home/ricardo/AD_clustering/AD_clustering.ipynb#X12sZmlsZQ%3D%3D?line=3'>4</a>\u001b[0m idx \u001b[39m=\u001b[39m get_word_idx(sent, \u001b[39m\"\u001b[39m\u001b[39mcookies\u001b[39m\u001b[39m\"\u001b[39m)\n\u001b[0;32m----> <a href='vscode-notebook-cell:/home/ricardo/AD_clustering/AD_clustering.ipynb#X12sZmlsZQ%3D%3D?line=4'>5</a>\u001b[0m word_embedding \u001b[39m=\u001b[39m get_word_vector(sent, idx, tokenizer, model, layers)\n",
      "\u001b[1;32m/home/ricardo/AD_clustering/AD_clustering.ipynb Cell 8\u001b[0m in \u001b[0;36mget_word_vector\u001b[0;34m(sent, idx, tokenizer, model, layers)\u001b[0m\n\u001b[1;32m      <a href='vscode-notebook-cell:/home/ricardo/AD_clustering/AD_clustering.ipynb#X12sZmlsZQ%3D%3D?line=4'>5</a>\u001b[0m \u001b[39m# get all token idxs that belong to the word of interest\u001b[39;00m\n\u001b[1;32m      <a href='vscode-notebook-cell:/home/ricardo/AD_clustering/AD_clustering.ipynb#X12sZmlsZQ%3D%3D?line=5'>6</a>\u001b[0m token_ids_word \u001b[39m=\u001b[39m np\u001b[39m.\u001b[39mwhere(np\u001b[39m.\u001b[39marray(encoded\u001b[39m.\u001b[39mword_ids()) \u001b[39m==\u001b[39m idx)\n\u001b[0;32m----> <a href='vscode-notebook-cell:/home/ricardo/AD_clustering/AD_clustering.ipynb#X12sZmlsZQ%3D%3D?line=7'>8</a>\u001b[0m \u001b[39mreturn\u001b[39;00m get_hidden_states(encoded, token_ids_word, model, layers)\n",
      "\u001b[1;32m/home/ricardo/AD_clustering/AD_clustering.ipynb Cell 8\u001b[0m in \u001b[0;36mget_hidden_states\u001b[0;34m(encoded, token_ids_word, model, layers)\u001b[0m\n\u001b[1;32m      <a href='vscode-notebook-cell:/home/ricardo/AD_clustering/AD_clustering.ipynb#X12sZmlsZQ%3D%3D?line=8'>9</a>\u001b[0m states \u001b[39m=\u001b[39m output\u001b[39m.\u001b[39mhidden_states\n\u001b[1;32m     <a href='vscode-notebook-cell:/home/ricardo/AD_clustering/AD_clustering.ipynb#X12sZmlsZQ%3D%3D?line=9'>10</a>\u001b[0m \u001b[39m# Stack and sum all requested layers\u001b[39;00m\n\u001b[0;32m---> <a href='vscode-notebook-cell:/home/ricardo/AD_clustering/AD_clustering.ipynb#X12sZmlsZQ%3D%3D?line=10'>11</a>\u001b[0m output \u001b[39m=\u001b[39m torch\u001b[39m.\u001b[39mstack([states[i] \u001b[39mfor\u001b[39;00m i \u001b[39min\u001b[39;00m layers])\u001b[39m.\u001b[39msum(\u001b[39m0\u001b[39m)\u001b[39m.\u001b[39msqueeze()\n\u001b[1;32m     <a href='vscode-notebook-cell:/home/ricardo/AD_clustering/AD_clustering.ipynb#X12sZmlsZQ%3D%3D?line=11'>12</a>\u001b[0m \u001b[39m# Only select the tokens that constitute the requested word\u001b[39;00m\n\u001b[1;32m     <a href='vscode-notebook-cell:/home/ricardo/AD_clustering/AD_clustering.ipynb#X12sZmlsZQ%3D%3D?line=12'>13</a>\u001b[0m word_tokens_output \u001b[39m=\u001b[39m output[token_ids_word]\n",
      "\u001b[1;32m/home/ricardo/AD_clustering/AD_clustering.ipynb Cell 8\u001b[0m in \u001b[0;36m<listcomp>\u001b[0;34m(.0)\u001b[0m\n\u001b[1;32m      <a href='vscode-notebook-cell:/home/ricardo/AD_clustering/AD_clustering.ipynb#X12sZmlsZQ%3D%3D?line=8'>9</a>\u001b[0m states \u001b[39m=\u001b[39m output\u001b[39m.\u001b[39mhidden_states\n\u001b[1;32m     <a href='vscode-notebook-cell:/home/ricardo/AD_clustering/AD_clustering.ipynb#X12sZmlsZQ%3D%3D?line=9'>10</a>\u001b[0m \u001b[39m# Stack and sum all requested layers\u001b[39;00m\n\u001b[0;32m---> <a href='vscode-notebook-cell:/home/ricardo/AD_clustering/AD_clustering.ipynb#X12sZmlsZQ%3D%3D?line=10'>11</a>\u001b[0m output \u001b[39m=\u001b[39m torch\u001b[39m.\u001b[39mstack([states[i] \u001b[39mfor\u001b[39;00m i \u001b[39min\u001b[39;00m layers])\u001b[39m.\u001b[39msum(\u001b[39m0\u001b[39m)\u001b[39m.\u001b[39msqueeze()\n\u001b[1;32m     <a href='vscode-notebook-cell:/home/ricardo/AD_clustering/AD_clustering.ipynb#X12sZmlsZQ%3D%3D?line=11'>12</a>\u001b[0m \u001b[39m# Only select the tokens that constitute the requested word\u001b[39;00m\n\u001b[1;32m     <a href='vscode-notebook-cell:/home/ricardo/AD_clustering/AD_clustering.ipynb#X12sZmlsZQ%3D%3D?line=12'>13</a>\u001b[0m word_tokens_output \u001b[39m=\u001b[39m output[token_ids_word]\n",
      "\u001b[0;31mTypeError\u001b[0m: 'NoneType' object is not subscriptable"
     ]
    }
   ],
   "source": [
    "layers = None\n",
    "layers = [-4, -3, -2, -1] if layers is None else layers\n",
    "sent = \"I like cookies .\" \n",
    "idx = get_word_idx(sent, \"cookies\")\n",
    "word_embedding = get_word_vector(sent, idx, tokenizer, model, layers)"
   ]
  }
 ],
 "metadata": {
  "kernelspec": {
   "display_name": "Python 3.8.12 ('sleap')",
   "language": "python",
   "name": "python3"
  },
  "language_info": {
   "codemirror_mode": {
    "name": "ipython",
    "version": 3
   },
   "file_extension": ".py",
   "mimetype": "text/x-python",
   "name": "python",
   "nbconvert_exporter": "python",
   "pygments_lexer": "ipython3",
   "version": "3.8.12"
  },
  "orig_nbformat": 4,
  "vscode": {
   "interpreter": {
    "hash": "89b32c871c216344fb10732c00814d306335dba348eb3756d4b4a14b624b03bb"
   }
  }
 },
 "nbformat": 4,
 "nbformat_minor": 2
}
